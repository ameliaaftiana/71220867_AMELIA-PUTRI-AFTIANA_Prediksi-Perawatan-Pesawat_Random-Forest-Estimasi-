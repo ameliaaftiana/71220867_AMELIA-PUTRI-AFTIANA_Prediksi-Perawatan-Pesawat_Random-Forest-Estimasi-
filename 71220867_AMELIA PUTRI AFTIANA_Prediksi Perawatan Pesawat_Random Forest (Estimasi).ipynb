{
 "cells": [
  {
   "cell_type": "code",
   "execution_count": null,
   "metadata": {},
   "outputs": [],
   "source": [
    "import pandas as pd\n",
    "import numpy as np\n",
    "from sklearn.ensemble import RandomForestRegressor\n",
    "from sklearn.model_selection import train_test_split\n",
    "from sklearn.preprocessing import StandardScaler\n",
    "import matplotlib.pyplot as plt\n",
    "import seaborn as sns\n",
    "from sklearn.metrics import mean_squared_error\n",
    "from sklearn.metrics import accuracy_score"
   ]
  },
  {
   "cell_type": "code",
   "execution_count": null,
   "metadata": {},
   "outputs": [],
   "source": [
    "# Membaca dataset\n",
    "data = pd.read_csv('[Dataset]_Train_(Perawatan-Pesawat).csv')"
   ]
  },
  {
   "cell_type": "code",
   "execution_count": null,
   "metadata": {},
   "outputs": [],
   "source": [
    "# Pembersihan Data\n",
    "# Menghapus baris dengan nilai yang hilang\n",
    "data = data.dropna()"
   ]
  },
  {
   "cell_type": "code",
   "execution_count": null,
   "metadata": {},
   "outputs": [],
   "source": [
    "# Normalisasi Data\n",
    "scaler = StandardScaler()\n",
    "sensor_columns = [f's{i}' for i in range(1, 22)]\n",
    "av_columns = [f'av{i}' for i in range(1, 22)]\n",
    "sd_columns = [f'sd{i}' for i in range(1, 22)]"
   ]
  },
  {
   "cell_type": "code",
   "execution_count": null,
   "metadata": {},
   "outputs": [],
   "source": [
    "data[sensor_columns + av_columns + sd_columns] = scaler.fit_transform(data[sensor_columns + av_columns + sd_columns])\n"
   ]
  },
  {
   "cell_type": "code",
   "execution_count": null,
   "metadata": {},
   "outputs": [],
   "source": [
    "# Distribusi Data\n",
    "# Memisahkan fitur dan target\n",
    "X = data.drop(columns=['id', 'ttf', 'label_bnc', 'label_mcc'])\n",
    "y_ttf = data['ttf']\n"
   ]
  },
  {
   "cell_type": "code",
   "execution_count": null,
   "metadata": {},
   "outputs": [],
   "source": [
    "# Membagi data menjadi training dan testing set\n",
    "X_train, X_test, y_ttf_train, y_ttf_test = train_test_split(X, y_ttf, test_size=0.2, random_state=42)"
   ]
  },
  {
   "cell_type": "code",
   "execution_count": null,
   "metadata": {},
   "outputs": [],
   "source": [
    "# Membangun Model Estimasi TTF\n",
    "model_ttf = RandomForestRegressor(n_estimators=100, random_state=42)\n",
    "model_ttf.fit(X_train, y_ttf_train)"
   ]
  },
  {
   "cell_type": "code",
   "execution_count": null,
   "metadata": {},
   "outputs": [],
   "source": [
    "# Memprediksi TTF untuk data testing\n",
    "y_ttf_pred = model_ttf.predict(X_test)"
   ]
  },
  {
   "cell_type": "code",
   "execution_count": null,
   "metadata": {},
   "outputs": [],
   "source": [
    "# Evaluasi Model TTF\n",
    "mse = mean_squared_error(y_ttf_test, y_ttf_pred)\n",
    "rmse = np.sqrt(mse)\n",
    "print(f'Root Mean Squared Error for TTF: {rmse}')"
   ]
  },
  {
   "cell_type": "code",
   "execution_count": null,
   "metadata": {},
   "outputs": [],
   "source": [
    "# Memprediksi TTF untuk semua data\n",
    "y_ttf_pred_all = model_ttf.predict(X)"
   ]
  },
  {
   "cell_type": "code",
   "execution_count": null,
   "metadata": {},
   "outputs": [],
   "source": [
    "# Menentukan apakah pesawat harus diperbaiki berdasarkan nilai TTF prediksi\n",
    "for i, pred in enumerate(y_ttf_pred_all):\n",
    "    if pred <= 100:\n",
    "        print(f'Pesawat dengan id {data.iloc[i][\"id\"]} harus diperbaiki!')\n",
    "    else:\n",
    "        print(f'Pesawat dengan id {data.iloc[i][\"id\"]} masih dalam kondisi baik.')"
   ]
  },
  {
   "cell_type": "code",
   "execution_count": null,
   "metadata": {},
   "outputs": [],
   "source": [
    "from sklearn.metrics import accuracy_score, classification_report, confusion_matrix"
   ]
  },
  {
   "cell_type": "code",
   "execution_count": null,
   "metadata": {},
   "outputs": [],
   "source": [
    "# Memprediksi label untuk data testing\n",
    "y_pred = []\n",
    "for pred in y_ttf_pred:\n",
    "    if pred <= 100:\n",
    "        y_pred.append(1)  # 1 untuk pesawat yang harus diperbaiki\n",
    "    else:\n",
    "        y_pred.append(0)  # 0 untuk pesawat yang masih dalam kondisi baik"
   ]
  },
  {
   "cell_type": "code",
   "execution_count": null,
   "metadata": {},
   "outputs": [],
   "source": [
    "# # Membuat label aktual untuk data testing\n",
    "y_test = []\n",
    "for val in y_ttf_test:\n",
    "    if val <= 100:\n",
    "        y_test.append(1)  # 1 untuk pesawat yang harus diperbaiki\n",
    "    else:\n",
    "        y_test.append(0)  # 0 untuk pesawat yang masih dalam kondisi baik"
   ]
  },
  {
   "cell_type": "code",
   "execution_count": null,
   "metadata": {},
   "outputs": [],
   "source": [
    "# Menghitung akurasi\n",
    "accuracy = accuracy_score(y_test, y_pred)\n",
    "print(f'Accuracy: {accuracy:.3f}')"
   ]
  },
  {
   "cell_type": "code",
   "execution_count": null,
   "metadata": {},
   "outputs": [],
   "source": [
    "# Menghitung Akurasi dalam Persen\n",
    "accuracy = accuracy_score(y_test, y_pred)\n",
    "accuracy_percentage = accuracy * 100\n",
    "print(f'Accuracy: {accuracy_percentage:.2f}%')"
   ]
  },
  {
   "cell_type": "code",
   "execution_count": null,
   "metadata": {},
   "outputs": [],
   "source": [
    "# Menghitung confusion matrix\n",
    "conf_mat = confusion_matrix(y_test, y_pred)\n",
    "print('Confusion Matrix:')\n",
    "print(conf_mat)"
   ]
  },
  {
   "cell_type": "code",
   "execution_count": null,
   "metadata": {},
   "outputs": [],
   "source": [
    "# Menghitung classification report\n",
    "class_report = classification_report(y_test, y_pred)\n",
    "print('Classification Report:')\n",
    "print(class_report)"
   ]
  },
  {
   "cell_type": "code",
   "execution_count": null,
   "metadata": {},
   "outputs": [],
   "source": [
    "# Visualisasi data\n",
    "plt.figure(figsize=(10, 6))"
   ]
  },
  {
   "cell_type": "code",
   "execution_count": null,
   "metadata": {},
   "outputs": [],
   "source": [
    "# # Confusion Matrix\n",
    "plt.subplot(1, 2, 1)\n",
    "sns.heatmap(conf_mat, annot=True, cmap='Blues')\n",
    "plt.xlabel('Predicted labels')\n",
    "plt.ylabel('True labels')\n",
    "plt.title('Confusion Matrix')"
   ]
  },
  {
   "cell_type": "code",
   "execution_count": null,
   "metadata": {},
   "outputs": [],
   "source": [
    "# Classification Report\n",
    "plt.subplot(1, 2, 2)\n",
    "sns.barplot(x=['Precision', 'Recall', 'F1-score'], y=[class_report.split('\\n')[2].split(' ')[-1], class_report.split('\\n')[3].split(' ')[-1], class_report.split('\\n')[4].split(' ')[-1]])\n",
    "plt.xlabel('Metrics')\n",
    "plt.ylabel('Values')\n",
    "plt.title('Classification Report')"
   ]
  },
  {
   "cell_type": "code",
   "execution_count": null,
   "metadata": {},
   "outputs": [],
   "source": [
    "plt.tight_layout()\n",
    "plt.show()"
   ]
  },
  {
   "cell_type": "code",
   "execution_count": null,
   "metadata": {},
   "outputs": [],
   "source": [
    "# # Membuat visualisasi data dari semua kolom\n",
    "for col in data.columns:\n",
    "    if col not in ['id', 'ttf', 'label_bnc', 'label_mcc']:\n",
    "        plt.figure(figsize=(10, 6))\n",
    "        sns.histplot(data[col], bins=50, kde=True)\n",
    "        plt.title(f'Distribusi {col}')\n",
    "        plt.xlabel(col)\n",
    "        plt.ylabel('Frequency')\n",
    "        plt.show()\n"
   ]
  }
 ],
 "metadata": {
  "kernelspec": {
   "display_name": "Python 3",
   "language": "python",
   "name": "python3"
  },
  "language_info": {
   "codemirror_mode": {
    "name": "ipython",
    "version": 3
   },
   "file_extension": ".py",
   "mimetype": "text/x-python",
   "name": "python",
   "nbconvert_exporter": "python",
   "pygments_lexer": "ipython3",
   "version": "3.12.4"
  }
 },
 "nbformat": 4,
 "nbformat_minor": 2
}
